{
 "cells": [
  {
   "cell_type": "markdown",
   "metadata": {},
   "source": [
    "#### Bibliotecas"
   ]
  },
  {
   "cell_type": "code",
   "execution_count": 1,
   "metadata": {},
   "outputs": [],
   "source": [
    "import pandas as pd\n",
    "import matplotlib.pyplot as plt\n",
    "import seaborn as sns"
   ]
  },
  {
   "cell_type": "markdown",
   "metadata": {},
   "source": [
    "##### 10 músicas mais populares"
   ]
  },
  {
   "cell_type": "markdown",
   "metadata": {},
   "source": [
    "- Smells Like Teen Spirit\n",
    "- Come As You Are\n",
    "- Heart-Shaped Box\n",
    "- The Man Who Sold The World\n",
    "- Lithium\n",
    "- Where Did You Sleep Last Night\n",
    "- About A Girl\n",
    "- All Apologies\n",
    "- Lake Of Fire\n",
    "- Rape Me"
   ]
  },
  {
   "cell_type": "markdown",
   "metadata": {},
   "source": [
    "#### Leitura"
   ]
  },
  {
   "cell_type": "code",
   "execution_count": 2,
   "metadata": {},
   "outputs": [
    {
     "data": {
      "text/html": [
       "<div>\n",
       "<style scoped>\n",
       "    .dataframe tbody tr th:only-of-type {\n",
       "        vertical-align: middle;\n",
       "    }\n",
       "\n",
       "    .dataframe tbody tr th {\n",
       "        vertical-align: top;\n",
       "    }\n",
       "\n",
       "    .dataframe thead th {\n",
       "        text-align: right;\n",
       "    }\n",
       "</style>\n",
       "<table border=\"1\" class=\"dataframe\">\n",
       "  <thead>\n",
       "    <tr style=\"text-align: right;\">\n",
       "      <th></th>\n",
       "      <th>acousticness</th>\n",
       "      <th>analysis_url</th>\n",
       "      <th>danceability</th>\n",
       "      <th>duration_ms</th>\n",
       "      <th>energy</th>\n",
       "      <th>id</th>\n",
       "      <th>instrumentalness</th>\n",
       "      <th>key</th>\n",
       "      <th>liveness</th>\n",
       "      <th>loudness</th>\n",
       "      <th>mode</th>\n",
       "      <th>speechiness</th>\n",
       "      <th>tempo</th>\n",
       "      <th>time_signature</th>\n",
       "      <th>track_href</th>\n",
       "      <th>type</th>\n",
       "      <th>uri</th>\n",
       "      <th>valence</th>\n",
       "      <th>name</th>\n",
       "    </tr>\n",
       "  </thead>\n",
       "  <tbody>\n",
       "    <tr>\n",
       "      <th>0</th>\n",
       "      <td>0.000029</td>\n",
       "      <td>https://api.spotify.com/v1/audio-analysis/5ghI...</td>\n",
       "      <td>0.516</td>\n",
       "      <td>301920</td>\n",
       "      <td>0.906</td>\n",
       "      <td>5ghIJDpPoe3CfHMGu71E6T</td>\n",
       "      <td>0.000101</td>\n",
       "      <td>1</td>\n",
       "      <td>0.1050</td>\n",
       "      <td>-4.525</td>\n",
       "      <td>1</td>\n",
       "      <td>0.0658</td>\n",
       "      <td>116.775</td>\n",
       "      <td>4</td>\n",
       "      <td>https://api.spotify.com/v1/tracks/5ghIJDpPoe3C...</td>\n",
       "      <td>audio_features</td>\n",
       "      <td>spotify:track:5ghIJDpPoe3CfHMGu71E6T</td>\n",
       "      <td>0.728</td>\n",
       "      <td>Smells Like Teen Spirit</td>\n",
       "    </tr>\n",
       "    <tr>\n",
       "      <th>1</th>\n",
       "      <td>0.000182</td>\n",
       "      <td>https://api.spotify.com/v1/audio-analysis/4P5K...</td>\n",
       "      <td>0.505</td>\n",
       "      <td>218920</td>\n",
       "      <td>0.825</td>\n",
       "      <td>4P5KoWXOxwuobLmHXLMobV</td>\n",
       "      <td>0.000948</td>\n",
       "      <td>4</td>\n",
       "      <td>0.0855</td>\n",
       "      <td>-5.721</td>\n",
       "      <td>0</td>\n",
       "      <td>0.0401</td>\n",
       "      <td>119.987</td>\n",
       "      <td>4</td>\n",
       "      <td>https://api.spotify.com/v1/tracks/4P5KoWXOxwuo...</td>\n",
       "      <td>audio_features</td>\n",
       "      <td>spotify:track:4P5KoWXOxwuobLmHXLMobV</td>\n",
       "      <td>0.541</td>\n",
       "      <td>Come As You Are</td>\n",
       "    </tr>\n",
       "    <tr>\n",
       "      <th>2</th>\n",
       "      <td>0.184000</td>\n",
       "      <td>https://api.spotify.com/v1/audio-analysis/11Lm...</td>\n",
       "      <td>0.494</td>\n",
       "      <td>281160</td>\n",
       "      <td>0.677</td>\n",
       "      <td>11LmqTE2naFULdEP94AUBa</td>\n",
       "      <td>0.025800</td>\n",
       "      <td>6</td>\n",
       "      <td>0.0926</td>\n",
       "      <td>-10.233</td>\n",
       "      <td>1</td>\n",
       "      <td>0.0452</td>\n",
       "      <td>101.539</td>\n",
       "      <td>4</td>\n",
       "      <td>https://api.spotify.com/v1/tracks/11LmqTE2naFU...</td>\n",
       "      <td>audio_features</td>\n",
       "      <td>spotify:track:11LmqTE2naFULdEP94AUBa</td>\n",
       "      <td>0.316</td>\n",
       "      <td>Heart-Shaped Box</td>\n",
       "    </tr>\n",
       "    <tr>\n",
       "      <th>3</th>\n",
       "      <td>0.406000</td>\n",
       "      <td>https://api.spotify.com/v1/audio-analysis/15VR...</td>\n",
       "      <td>0.485</td>\n",
       "      <td>260947</td>\n",
       "      <td>0.738</td>\n",
       "      <td>15VRO9CQwMpbqUYA7e6Hwg</td>\n",
       "      <td>0.000088</td>\n",
       "      <td>1</td>\n",
       "      <td>0.5140</td>\n",
       "      <td>-8.884</td>\n",
       "      <td>0</td>\n",
       "      <td>0.1010</td>\n",
       "      <td>114.713</td>\n",
       "      <td>4</td>\n",
       "      <td>https://api.spotify.com/v1/tracks/15VRO9CQwMpb...</td>\n",
       "      <td>audio_features</td>\n",
       "      <td>spotify:track:15VRO9CQwMpbqUYA7e6Hwg</td>\n",
       "      <td>0.484</td>\n",
       "      <td>The Man Who Sold The World</td>\n",
       "    </tr>\n",
       "    <tr>\n",
       "      <th>4</th>\n",
       "      <td>0.002030</td>\n",
       "      <td>https://api.spotify.com/v1/audio-analysis/2Yod...</td>\n",
       "      <td>0.680</td>\n",
       "      <td>257053</td>\n",
       "      <td>0.650</td>\n",
       "      <td>2YodwKJnbPyNKe8XXSE9V7</td>\n",
       "      <td>0.000000</td>\n",
       "      <td>7</td>\n",
       "      <td>0.0622</td>\n",
       "      <td>-6.336</td>\n",
       "      <td>1</td>\n",
       "      <td>0.0378</td>\n",
       "      <td>123.238</td>\n",
       "      <td>4</td>\n",
       "      <td>https://api.spotify.com/v1/tracks/2YodwKJnbPyN...</td>\n",
       "      <td>audio_features</td>\n",
       "      <td>spotify:track:2YodwKJnbPyNKe8XXSE9V7</td>\n",
       "      <td>0.486</td>\n",
       "      <td>Lithium</td>\n",
       "    </tr>\n",
       "  </tbody>\n",
       "</table>\n",
       "</div>"
      ],
      "text/plain": [
       "   acousticness                                       analysis_url  \\\n",
       "0      0.000029  https://api.spotify.com/v1/audio-analysis/5ghI...   \n",
       "1      0.000182  https://api.spotify.com/v1/audio-analysis/4P5K...   \n",
       "2      0.184000  https://api.spotify.com/v1/audio-analysis/11Lm...   \n",
       "3      0.406000  https://api.spotify.com/v1/audio-analysis/15VR...   \n",
       "4      0.002030  https://api.spotify.com/v1/audio-analysis/2Yod...   \n",
       "\n",
       "   danceability  duration_ms  energy                      id  \\\n",
       "0         0.516       301920   0.906  5ghIJDpPoe3CfHMGu71E6T   \n",
       "1         0.505       218920   0.825  4P5KoWXOxwuobLmHXLMobV   \n",
       "2         0.494       281160   0.677  11LmqTE2naFULdEP94AUBa   \n",
       "3         0.485       260947   0.738  15VRO9CQwMpbqUYA7e6Hwg   \n",
       "4         0.680       257053   0.650  2YodwKJnbPyNKe8XXSE9V7   \n",
       "\n",
       "   instrumentalness  key  liveness  loudness  mode  speechiness    tempo  \\\n",
       "0          0.000101    1    0.1050    -4.525     1       0.0658  116.775   \n",
       "1          0.000948    4    0.0855    -5.721     0       0.0401  119.987   \n",
       "2          0.025800    6    0.0926   -10.233     1       0.0452  101.539   \n",
       "3          0.000088    1    0.5140    -8.884     0       0.1010  114.713   \n",
       "4          0.000000    7    0.0622    -6.336     1       0.0378  123.238   \n",
       "\n",
       "   time_signature                                         track_href  \\\n",
       "0               4  https://api.spotify.com/v1/tracks/5ghIJDpPoe3C...   \n",
       "1               4  https://api.spotify.com/v1/tracks/4P5KoWXOxwuo...   \n",
       "2               4  https://api.spotify.com/v1/tracks/11LmqTE2naFU...   \n",
       "3               4  https://api.spotify.com/v1/tracks/15VRO9CQwMpb...   \n",
       "4               4  https://api.spotify.com/v1/tracks/2YodwKJnbPyN...   \n",
       "\n",
       "             type                                   uri  valence  \\\n",
       "0  audio_features  spotify:track:5ghIJDpPoe3CfHMGu71E6T    0.728   \n",
       "1  audio_features  spotify:track:4P5KoWXOxwuobLmHXLMobV    0.541   \n",
       "2  audio_features  spotify:track:11LmqTE2naFULdEP94AUBa    0.316   \n",
       "3  audio_features  spotify:track:15VRO9CQwMpbqUYA7e6Hwg    0.484   \n",
       "4  audio_features  spotify:track:2YodwKJnbPyNKe8XXSE9V7    0.486   \n",
       "\n",
       "                         name  \n",
       "0     Smells Like Teen Spirit  \n",
       "1             Come As You Are  \n",
       "2            Heart-Shaped Box  \n",
       "3  The Man Who Sold The World  \n",
       "4                     Lithium  "
      ]
     },
     "execution_count": 2,
     "metadata": {},
     "output_type": "execute_result"
    }
   ],
   "source": [
    "df = pd.read_csv('./datasets/features_nirvana.csv')\n",
    "df['name'] = ['Smells Like Teen Spirit',\n",
    "'Come As You Are',\n",
    "'Heart-Shaped Box',\n",
    "'The Man Who Sold The World',\n",
    "'Lithium',\n",
    "'Where Did You Sleep Last Night',\n",
    "'About A Girl',\n",
    "'All Apologies',\n",
    "'Lake Of Fire',\n",
    "'Rape Me']\n",
    "df.head()"
   ]
  },
  {
   "cell_type": "markdown",
   "metadata": {},
   "source": [
    "#### Remoção de variáveis"
   ]
  },
  {
   "cell_type": "code",
   "execution_count": 3,
   "metadata": {},
   "outputs": [
    {
     "data": {
      "text/html": [
       "<div>\n",
       "<style scoped>\n",
       "    .dataframe tbody tr th:only-of-type {\n",
       "        vertical-align: middle;\n",
       "    }\n",
       "\n",
       "    .dataframe tbody tr th {\n",
       "        vertical-align: top;\n",
       "    }\n",
       "\n",
       "    .dataframe thead th {\n",
       "        text-align: right;\n",
       "    }\n",
       "</style>\n",
       "<table border=\"1\" class=\"dataframe\">\n",
       "  <thead>\n",
       "    <tr style=\"text-align: right;\">\n",
       "      <th></th>\n",
       "      <th>speechiness</th>\n",
       "      <th>acousticness</th>\n",
       "      <th>danceability</th>\n",
       "      <th>energy</th>\n",
       "      <th>instrumentalness</th>\n",
       "      <th>liveness</th>\n",
       "      <th>valence</th>\n",
       "    </tr>\n",
       "    <tr>\n",
       "      <th>name</th>\n",
       "      <th></th>\n",
       "      <th></th>\n",
       "      <th></th>\n",
       "      <th></th>\n",
       "      <th></th>\n",
       "      <th></th>\n",
       "      <th></th>\n",
       "    </tr>\n",
       "  </thead>\n",
       "  <tbody>\n",
       "    <tr>\n",
       "      <th>Smells Like Teen Spirit</th>\n",
       "      <td>0.0658</td>\n",
       "      <td>0.000029</td>\n",
       "      <td>0.516</td>\n",
       "      <td>0.906</td>\n",
       "      <td>0.000101</td>\n",
       "      <td>0.1050</td>\n",
       "      <td>0.728</td>\n",
       "    </tr>\n",
       "    <tr>\n",
       "      <th>Come As You Are</th>\n",
       "      <td>0.0401</td>\n",
       "      <td>0.000182</td>\n",
       "      <td>0.505</td>\n",
       "      <td>0.825</td>\n",
       "      <td>0.000948</td>\n",
       "      <td>0.0855</td>\n",
       "      <td>0.541</td>\n",
       "    </tr>\n",
       "    <tr>\n",
       "      <th>Heart-Shaped Box</th>\n",
       "      <td>0.0452</td>\n",
       "      <td>0.184000</td>\n",
       "      <td>0.494</td>\n",
       "      <td>0.677</td>\n",
       "      <td>0.025800</td>\n",
       "      <td>0.0926</td>\n",
       "      <td>0.316</td>\n",
       "    </tr>\n",
       "    <tr>\n",
       "      <th>The Man Who Sold The World</th>\n",
       "      <td>0.1010</td>\n",
       "      <td>0.406000</td>\n",
       "      <td>0.485</td>\n",
       "      <td>0.738</td>\n",
       "      <td>0.000088</td>\n",
       "      <td>0.5140</td>\n",
       "      <td>0.484</td>\n",
       "    </tr>\n",
       "    <tr>\n",
       "      <th>Lithium</th>\n",
       "      <td>0.0378</td>\n",
       "      <td>0.002030</td>\n",
       "      <td>0.680</td>\n",
       "      <td>0.650</td>\n",
       "      <td>0.000000</td>\n",
       "      <td>0.0622</td>\n",
       "      <td>0.486</td>\n",
       "    </tr>\n",
       "    <tr>\n",
       "      <th>Where Did You Sleep Last Night</th>\n",
       "      <td>0.0747</td>\n",
       "      <td>0.624000</td>\n",
       "      <td>0.538</td>\n",
       "      <td>0.587</td>\n",
       "      <td>0.000104</td>\n",
       "      <td>0.3080</td>\n",
       "      <td>0.388</td>\n",
       "    </tr>\n",
       "    <tr>\n",
       "      <th>About A Girl</th>\n",
       "      <td>0.0339</td>\n",
       "      <td>0.000019</td>\n",
       "      <td>0.409</td>\n",
       "      <td>0.932</td>\n",
       "      <td>0.000002</td>\n",
       "      <td>0.3100</td>\n",
       "      <td>0.591</td>\n",
       "    </tr>\n",
       "    <tr>\n",
       "      <th>All Apologies</th>\n",
       "      <td>0.0340</td>\n",
       "      <td>0.082400</td>\n",
       "      <td>0.447</td>\n",
       "      <td>0.621</td>\n",
       "      <td>0.000239</td>\n",
       "      <td>0.0885</td>\n",
       "      <td>0.364</td>\n",
       "    </tr>\n",
       "    <tr>\n",
       "      <th>Lake Of Fire</th>\n",
       "      <td>0.2730</td>\n",
       "      <td>0.293000</td>\n",
       "      <td>0.530</td>\n",
       "      <td>0.634</td>\n",
       "      <td>0.000040</td>\n",
       "      <td>0.3620</td>\n",
       "      <td>0.637</td>\n",
       "    </tr>\n",
       "    <tr>\n",
       "      <th>Rape Me</th>\n",
       "      <td>0.0476</td>\n",
       "      <td>0.021700</td>\n",
       "      <td>0.416</td>\n",
       "      <td>0.743</td>\n",
       "      <td>0.000000</td>\n",
       "      <td>0.0646</td>\n",
       "      <td>0.259</td>\n",
       "    </tr>\n",
       "  </tbody>\n",
       "</table>\n",
       "</div>"
      ],
      "text/plain": [
       "                                speechiness  acousticness  danceability  \\\n",
       "name                                                                      \n",
       "Smells Like Teen Spirit              0.0658      0.000029         0.516   \n",
       "Come As You Are                      0.0401      0.000182         0.505   \n",
       "Heart-Shaped Box                     0.0452      0.184000         0.494   \n",
       "The Man Who Sold The World           0.1010      0.406000         0.485   \n",
       "Lithium                              0.0378      0.002030         0.680   \n",
       "Where Did You Sleep Last Night       0.0747      0.624000         0.538   \n",
       "About A Girl                         0.0339      0.000019         0.409   \n",
       "All Apologies                        0.0340      0.082400         0.447   \n",
       "Lake Of Fire                         0.2730      0.293000         0.530   \n",
       "Rape Me                              0.0476      0.021700         0.416   \n",
       "\n",
       "                                energy  instrumentalness  liveness  valence  \n",
       "name                                                                         \n",
       "Smells Like Teen Spirit          0.906          0.000101    0.1050    0.728  \n",
       "Come As You Are                  0.825          0.000948    0.0855    0.541  \n",
       "Heart-Shaped Box                 0.677          0.025800    0.0926    0.316  \n",
       "The Man Who Sold The World       0.738          0.000088    0.5140    0.484  \n",
       "Lithium                          0.650          0.000000    0.0622    0.486  \n",
       "Where Did You Sleep Last Night   0.587          0.000104    0.3080    0.388  \n",
       "About A Girl                     0.932          0.000002    0.3100    0.591  \n",
       "All Apologies                    0.621          0.000239    0.0885    0.364  \n",
       "Lake Of Fire                     0.634          0.000040    0.3620    0.637  \n",
       "Rape Me                          0.743          0.000000    0.0646    0.259  "
      ]
     },
     "execution_count": 3,
     "metadata": {},
     "output_type": "execute_result"
    }
   ],
   "source": [
    "df_new = df[['name','speechiness','acousticness','danceability','energy','instrumentalness','liveness','valence']]\n",
    "df_new.set_index('name',inplace=True)\n",
    "df_new"
   ]
  },
  {
   "cell_type": "markdown",
   "metadata": {},
   "source": [
    "#### Análises descritivas"
   ]
  },
  {
   "cell_type": "code",
   "execution_count": 4,
   "metadata": {},
   "outputs": [
    {
     "data": {
      "text/plain": [
       "(10, 7)"
      ]
     },
     "execution_count": 4,
     "metadata": {},
     "output_type": "execute_result"
    }
   ],
   "source": [
    "df_new.shape"
   ]
  },
  {
   "cell_type": "code",
   "execution_count": 5,
   "metadata": {},
   "outputs": [
    {
     "data": {
      "text/html": [
       "<div>\n",
       "<style scoped>\n",
       "    .dataframe tbody tr th:only-of-type {\n",
       "        vertical-align: middle;\n",
       "    }\n",
       "\n",
       "    .dataframe tbody tr th {\n",
       "        vertical-align: top;\n",
       "    }\n",
       "\n",
       "    .dataframe thead th {\n",
       "        text-align: right;\n",
       "    }\n",
       "</style>\n",
       "<table border=\"1\" class=\"dataframe\">\n",
       "  <thead>\n",
       "    <tr style=\"text-align: right;\">\n",
       "      <th></th>\n",
       "      <th>speechiness</th>\n",
       "      <th>acousticness</th>\n",
       "      <th>danceability</th>\n",
       "      <th>energy</th>\n",
       "      <th>instrumentalness</th>\n",
       "      <th>liveness</th>\n",
       "      <th>valence</th>\n",
       "    </tr>\n",
       "  </thead>\n",
       "  <tbody>\n",
       "    <tr>\n",
       "      <th>count</th>\n",
       "      <td>10.000000</td>\n",
       "      <td>10.000000</td>\n",
       "      <td>10.000000</td>\n",
       "      <td>10.000000</td>\n",
       "      <td>10.000000</td>\n",
       "      <td>10.000000</td>\n",
       "      <td>10.000000</td>\n",
       "    </tr>\n",
       "    <tr>\n",
       "      <th>mean</th>\n",
       "      <td>0.075310</td>\n",
       "      <td>0.161336</td>\n",
       "      <td>0.502000</td>\n",
       "      <td>0.731300</td>\n",
       "      <td>0.002732</td>\n",
       "      <td>0.199240</td>\n",
       "      <td>0.479400</td>\n",
       "    </tr>\n",
       "    <tr>\n",
       "      <th>std</th>\n",
       "      <td>0.072705</td>\n",
       "      <td>0.216253</td>\n",
       "      <td>0.077022</td>\n",
       "      <td>0.121003</td>\n",
       "      <td>0.008110</td>\n",
       "      <td>0.160562</td>\n",
       "      <td>0.149034</td>\n",
       "    </tr>\n",
       "    <tr>\n",
       "      <th>min</th>\n",
       "      <td>0.033900</td>\n",
       "      <td>0.000019</td>\n",
       "      <td>0.409000</td>\n",
       "      <td>0.587000</td>\n",
       "      <td>0.000000</td>\n",
       "      <td>0.062200</td>\n",
       "      <td>0.259000</td>\n",
       "    </tr>\n",
       "    <tr>\n",
       "      <th>25%</th>\n",
       "      <td>0.038375</td>\n",
       "      <td>0.000644</td>\n",
       "      <td>0.456500</td>\n",
       "      <td>0.638000</td>\n",
       "      <td>0.000011</td>\n",
       "      <td>0.086250</td>\n",
       "      <td>0.370000</td>\n",
       "    </tr>\n",
       "    <tr>\n",
       "      <th>50%</th>\n",
       "      <td>0.046400</td>\n",
       "      <td>0.052050</td>\n",
       "      <td>0.499500</td>\n",
       "      <td>0.707500</td>\n",
       "      <td>0.000094</td>\n",
       "      <td>0.098800</td>\n",
       "      <td>0.485000</td>\n",
       "    </tr>\n",
       "    <tr>\n",
       "      <th>75%</th>\n",
       "      <td>0.072475</td>\n",
       "      <td>0.265750</td>\n",
       "      <td>0.526500</td>\n",
       "      <td>0.804500</td>\n",
       "      <td>0.000205</td>\n",
       "      <td>0.309500</td>\n",
       "      <td>0.578500</td>\n",
       "    </tr>\n",
       "    <tr>\n",
       "      <th>max</th>\n",
       "      <td>0.273000</td>\n",
       "      <td>0.624000</td>\n",
       "      <td>0.680000</td>\n",
       "      <td>0.932000</td>\n",
       "      <td>0.025800</td>\n",
       "      <td>0.514000</td>\n",
       "      <td>0.728000</td>\n",
       "    </tr>\n",
       "  </tbody>\n",
       "</table>\n",
       "</div>"
      ],
      "text/plain": [
       "       speechiness  acousticness  danceability     energy  instrumentalness  \\\n",
       "count    10.000000     10.000000     10.000000  10.000000         10.000000   \n",
       "mean      0.075310      0.161336      0.502000   0.731300          0.002732   \n",
       "std       0.072705      0.216253      0.077022   0.121003          0.008110   \n",
       "min       0.033900      0.000019      0.409000   0.587000          0.000000   \n",
       "25%       0.038375      0.000644      0.456500   0.638000          0.000011   \n",
       "50%       0.046400      0.052050      0.499500   0.707500          0.000094   \n",
       "75%       0.072475      0.265750      0.526500   0.804500          0.000205   \n",
       "max       0.273000      0.624000      0.680000   0.932000          0.025800   \n",
       "\n",
       "        liveness    valence  \n",
       "count  10.000000  10.000000  \n",
       "mean    0.199240   0.479400  \n",
       "std     0.160562   0.149034  \n",
       "min     0.062200   0.259000  \n",
       "25%     0.086250   0.370000  \n",
       "50%     0.098800   0.485000  \n",
       "75%     0.309500   0.578500  \n",
       "max     0.514000   0.728000  "
      ]
     },
     "execution_count": 5,
     "metadata": {},
     "output_type": "execute_result"
    }
   ],
   "source": [
    "df_new.describe()"
   ]
  },
  {
   "cell_type": "markdown",
   "metadata": {},
   "source": [
    "#### Plotagem"
   ]
  },
  {
   "cell_type": "markdown",
   "metadata": {},
   "source": [
    "###### energy "
   ]
  },
  {
   "cell_type": "code",
   "execution_count": 6,
   "metadata": {},
   "outputs": [
    {
     "data": {
      "text/plain": [
       "<matplotlib.axes._subplots.AxesSubplot at 0x7fd1c645d9b0>"
      ]
     },
     "execution_count": 6,
     "metadata": {},
     "output_type": "execute_result"
    },
    {
     "data": {
      "image/png": "[encoded data removed]",
      "text/plain": [
       "<Figure size 720x360 with 1 Axes>"
      ]
     },
     "metadata": {
      "needs_background": "light"
     },
     "output_type": "display_data"
    }
   ],
   "source": [
    "plt.figure(figsize=(10,5))\n",
    "df_new.energy.plot(kind='bar')"
   ]
  },
  {
   "cell_type": "markdown",
   "metadata": {},
   "source": [
    "##### valence"
   ]
  },
  {
   "cell_type": "code",
   "execution_count": 7,
   "metadata": {},
   "outputs": [
    {
     "data": {
      "text/plain": [
       "<matplotlib.axes._subplots.AxesSubplot at 0x7fd1c53cf400>"
      ]
     },
     "execution_count": 7,
     "metadata": {},
     "output_type": "execute_result"
    },
    {
     "data": {
      "image/png": "[encoded data removed]",
      "text/plain": [
       "<Figure size 720x360 with 1 Axes>"
      ]
     },
     "metadata": {
      "needs_background": "light"
     },
     "output_type": "display_data"
    }
   ],
   "source": [
    "plt.figure(figsize=(10,5))\n",
    "df_new.valence.plot(kind='bar')"
   ]
  },
  {
   "cell_type": "markdown",
   "metadata": {},
   "source": [
    "##### acousticness"
   ]
  },
  {
   "cell_type": "code",
   "execution_count": 8,
   "metadata": {},
   "outputs": [
    {
     "data": {
      "text/plain": [
       "<matplotlib.axes._subplots.AxesSubplot at 0x7fd1c540d2b0>"
      ]
     },
     "execution_count": 8,
     "metadata": {},
     "output_type": "execute_result"
    },
    {
     "data": {
      "image/png": "[encoded data removed]",
      "text/plain": [
       "<Figure size 720x360 with 1 Axes>"
      ]
     },
     "metadata": {
      "needs_background": "light"
     },
     "output_type": "display_data"
    }
   ],
   "source": [
    "plt.figure(figsize=(10,5))\n",
    "df_new.acousticness.plot(kind='bar')"
   ]
  },
  {
   "cell_type": "markdown",
   "metadata": {},
   "source": [
    "#### Correlação"
   ]
  },
  {
   "cell_type": "code",
   "execution_count": 9,
   "metadata": {
    "scrolled": true
   },
   "outputs": [
    {
     "data": {
      "text/html": [
       "<div>\n",
       "<style scoped>\n",
       "    .dataframe tbody tr th:only-of-type {\n",
       "        vertical-align: middle;\n",
       "    }\n",
       "\n",
       "    .dataframe tbody tr th {\n",
       "        vertical-align: top;\n",
       "    }\n",
       "\n",
       "    .dataframe thead th {\n",
       "        text-align: right;\n",
       "    }\n",
       "</style>\n",
       "<table border=\"1\" class=\"dataframe\">\n",
       "  <thead>\n",
       "    <tr style=\"text-align: right;\">\n",
       "      <th></th>\n",
       "      <th>speechiness</th>\n",
       "      <th>acousticness</th>\n",
       "      <th>danceability</th>\n",
       "      <th>energy</th>\n",
       "      <th>instrumentalness</th>\n",
       "      <th>liveness</th>\n",
       "      <th>valence</th>\n",
       "    </tr>\n",
       "  </thead>\n",
       "  <tbody>\n",
       "    <tr>\n",
       "      <th>speechiness</th>\n",
       "      <td>1.000000</td>\n",
       "      <td>0.412308</td>\n",
       "      <td>0.137069</td>\n",
       "      <td>-0.294649</td>\n",
       "      <td>-0.152827</td>\n",
       "      <td>0.544119</td>\n",
       "      <td>0.386815</td>\n",
       "    </tr>\n",
       "    <tr>\n",
       "      <th>acousticness</th>\n",
       "      <td>0.412308</td>\n",
       "      <td>1.000000</td>\n",
       "      <td>0.108443</td>\n",
       "      <td>-0.572372</td>\n",
       "      <td>0.029862</td>\n",
       "      <td>0.676416</td>\n",
       "      <td>-0.183797</td>\n",
       "    </tr>\n",
       "    <tr>\n",
       "      <th>danceability</th>\n",
       "      <td>0.137069</td>\n",
       "      <td>0.108443</td>\n",
       "      <td>1.000000</td>\n",
       "      <td>-0.392801</td>\n",
       "      <td>-0.037721</td>\n",
       "      <td>-0.132161</td>\n",
       "      <td>0.214054</td>\n",
       "    </tr>\n",
       "    <tr>\n",
       "      <th>energy</th>\n",
       "      <td>-0.294649</td>\n",
       "      <td>-0.572372</td>\n",
       "      <td>-0.392801</td>\n",
       "      <td>1.000000</td>\n",
       "      <td>-0.151582</td>\n",
       "      <td>-0.038558</td>\n",
       "      <td>0.542024</td>\n",
       "    </tr>\n",
       "    <tr>\n",
       "      <th>instrumentalness</th>\n",
       "      <td>-0.152827</td>\n",
       "      <td>0.029862</td>\n",
       "      <td>-0.037721</td>\n",
       "      <td>-0.151582</td>\n",
       "      <td>1.000000</td>\n",
       "      <td>-0.243139</td>\n",
       "      <td>-0.382636</td>\n",
       "    </tr>\n",
       "    <tr>\n",
       "      <th>liveness</th>\n",
       "      <td>0.544119</td>\n",
       "      <td>0.676416</td>\n",
       "      <td>-0.132161</td>\n",
       "      <td>-0.038558</td>\n",
       "      <td>-0.243139</td>\n",
       "      <td>1.000000</td>\n",
       "      <td>0.269587</td>\n",
       "    </tr>\n",
       "    <tr>\n",
       "      <th>valence</th>\n",
       "      <td>0.386815</td>\n",
       "      <td>-0.183797</td>\n",
       "      <td>0.214054</td>\n",
       "      <td>0.542024</td>\n",
       "      <td>-0.382636</td>\n",
       "      <td>0.269587</td>\n",
       "      <td>1.000000</td>\n",
       "    </tr>\n",
       "  </tbody>\n",
       "</table>\n",
       "</div>"
      ],
      "text/plain": [
       "                  speechiness  acousticness  danceability    energy  \\\n",
       "speechiness          1.000000      0.412308      0.137069 -0.294649   \n",
       "acousticness         0.412308      1.000000      0.108443 -0.572372   \n",
       "danceability         0.137069      0.108443      1.000000 -0.392801   \n",
       "energy              -0.294649     -0.572372     -0.392801  1.000000   \n",
       "instrumentalness    -0.152827      0.029862     -0.037721 -0.151582   \n",
       "liveness             0.544119      0.676416     -0.132161 -0.038558   \n",
       "valence              0.386815     -0.183797      0.214054  0.542024   \n",
       "\n",
       "                  instrumentalness  liveness   valence  \n",
       "speechiness              -0.152827  0.544119  0.386815  \n",
       "acousticness              0.029862  0.676416 -0.183797  \n",
       "danceability             -0.037721 -0.132161  0.214054  \n",
       "energy                   -0.151582 -0.038558  0.542024  \n",
       "instrumentalness          1.000000 -0.243139 -0.382636  \n",
       "liveness                 -0.243139  1.000000  0.269587  \n",
       "valence                  -0.382636  0.269587  1.000000  "
      ]
     },
     "execution_count": 9,
     "metadata": {},
     "output_type": "execute_result"
    }
   ],
   "source": [
    "df_new.corr()"
   ]
  },
  {
   "cell_type": "code",
   "execution_count": 10,
   "metadata": {},
   "outputs": [
    {
     "data": {
      "text/plain": [
       "<matplotlib.axes._subplots.AxesSubplot at 0x7fd1c52c75f8>"
      ]
     },
     "execution_count": 10,
     "metadata": {},
     "output_type": "execute_result"
    },
    {
     "data": {
      "image/png": "[encoded data removed]",
      "text/plain": [
       "<Figure size 720x720 with 2 Axes>"
      ]
     },
     "metadata": {
      "needs_background": "light"
     },
     "output_type": "display_data"
    }
   ],
   "source": [
    "plt.figure(figsize=(10,10))\n",
    "sns.heatmap(df_new.corr(), square=True ,annot=True, linewidths=0, linecolor='k')"
   ]
  },
  {
   "cell_type": "markdown",
   "metadata": {},
   "source": [
    "#### TODO\n",
    "- Predict features of track"
   ]
  }
 ],
 "metadata": {
  "kernelspec": {
   "display_name": "Python 3",
   "language": "python",
   "name": "python3"
  },
  "language_info": {
   "codemirror_mode": {
    "name": "ipython",
    "version": 3
   },
   "file_extension": ".py",
   "mimetype": "text/x-python",
   "name": "python",
   "nbconvert_exporter": "python",
   "pygments_lexer": "ipython3",
   "version": "3.7.3"
  }
 },
 "nbformat": 4,
 "nbformat_minor": 2
}
